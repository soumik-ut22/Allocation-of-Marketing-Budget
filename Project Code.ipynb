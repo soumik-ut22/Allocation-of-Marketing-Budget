{
 "cells": [
  {
   "cell_type": "code",
   "execution_count": 1,
   "id": "012bb117",
   "metadata": {},
   "outputs": [],
   "source": [
    "# import necessary packages\n",
    "import numpy as np\n",
    "import pandas as pd\n",
    "import gurobipy as gp\n",
    "import matplotlib.pyplot as plt"
   ]
  },
  {
   "cell_type": "markdown",
   "id": "77a71fa0",
   "metadata": {},
   "source": [
    "## Reading ROI Datafile - Please read new file in the below cell"
   ]
  },
  {
   "cell_type": "code",
   "execution_count": 2,
   "id": "d97f0b71",
   "metadata": {},
   "outputs": [
    {
     "data": {
      "text/html": [
       "<div>\n",
       "<style scoped>\n",
       "    .dataframe tbody tr th:only-of-type {\n",
       "        vertical-align: middle;\n",
       "    }\n",
       "\n",
       "    .dataframe tbody tr th {\n",
       "        vertical-align: top;\n",
       "    }\n",
       "\n",
       "    .dataframe thead th {\n",
       "        text-align: right;\n",
       "    }\n",
       "</style>\n",
       "<table border=\"1\" class=\"dataframe\">\n",
       "  <thead>\n",
       "    <tr style=\"text-align: right;\">\n",
       "      <th></th>\n",
       "      <th>Platform</th>\n",
       "      <th>Print</th>\n",
       "      <th>TV</th>\n",
       "      <th>SEO</th>\n",
       "      <th>AdWords</th>\n",
       "      <th>Facebook</th>\n",
       "      <th>LinkedIn</th>\n",
       "      <th>Instagram</th>\n",
       "      <th>Snapchat</th>\n",
       "      <th>Twitter</th>\n",
       "      <th>Email</th>\n",
       "    </tr>\n",
       "  </thead>\n",
       "  <tbody>\n",
       "    <tr>\n",
       "      <th>0</th>\n",
       "      <td>ROI</td>\n",
       "      <td>0.031</td>\n",
       "      <td>0.049</td>\n",
       "      <td>0.024</td>\n",
       "      <td>0.039</td>\n",
       "      <td>0.016</td>\n",
       "      <td>0.024</td>\n",
       "      <td>0.046</td>\n",
       "      <td>0.026</td>\n",
       "      <td>0.033</td>\n",
       "      <td>0.044</td>\n",
       "    </tr>\n",
       "    <tr>\n",
       "      <th>1</th>\n",
       "      <td>Second Firms ROI Estimate</td>\n",
       "      <td>0.049</td>\n",
       "      <td>0.023</td>\n",
       "      <td>0.024</td>\n",
       "      <td>0.039</td>\n",
       "      <td>0.044</td>\n",
       "      <td>0.046</td>\n",
       "      <td>0.026</td>\n",
       "      <td>0.019</td>\n",
       "      <td>0.037</td>\n",
       "      <td>0.026</td>\n",
       "    </tr>\n",
       "  </tbody>\n",
       "</table>\n",
       "</div>"
      ],
      "text/plain": [
       "                    Platform  Print     TV    SEO  AdWords  Facebook  \\\n",
       "0                        ROI  0.031  0.049  0.024    0.039     0.016   \n",
       "1  Second Firms ROI Estimate  0.049  0.023  0.024    0.039     0.044   \n",
       "\n",
       "   LinkedIn  Instagram  Snapchat  Twitter  Email  \n",
       "0     0.024      0.046     0.026    0.033  0.044  \n",
       "1     0.046      0.026     0.019    0.037  0.026  "
      ]
     },
     "execution_count": 2,
     "metadata": {},
     "output_type": "execute_result"
    }
   ],
   "source": [
    "estimated_roi = pd.read_csv(\"ROI_data.csv\") # read the ROI file\n",
    "\n",
    "estimated_roi # view the data for reference"
   ]
  },
  {
   "cell_type": "markdown",
   "id": "919eef37",
   "metadata": {},
   "source": [
    "**Reading monthly ROI datafile**"
   ]
  },
  {
   "cell_type": "code",
   "execution_count": 3,
   "id": "302301e1",
   "metadata": {},
   "outputs": [
    {
     "data": {
      "text/html": [
       "<div>\n",
       "<style scoped>\n",
       "    .dataframe tbody tr th:only-of-type {\n",
       "        vertical-align: middle;\n",
       "    }\n",
       "\n",
       "    .dataframe tbody tr th {\n",
       "        vertical-align: top;\n",
       "    }\n",
       "\n",
       "    .dataframe thead th {\n",
       "        text-align: right;\n",
       "    }\n",
       "</style>\n",
       "<table border=\"1\" class=\"dataframe\">\n",
       "  <thead>\n",
       "    <tr style=\"text-align: right;\">\n",
       "      <th></th>\n",
       "      <th>Unnamed: 0</th>\n",
       "      <th>Print</th>\n",
       "      <th>TV</th>\n",
       "      <th>SEO</th>\n",
       "      <th>AdWords</th>\n",
       "      <th>Facebook</th>\n",
       "      <th>LinkedIn</th>\n",
       "      <th>Instagram</th>\n",
       "      <th>Snapchat</th>\n",
       "      <th>Twitter</th>\n",
       "      <th>Email</th>\n",
       "    </tr>\n",
       "  </thead>\n",
       "  <tbody>\n",
       "    <tr>\n",
       "      <th>0</th>\n",
       "      <td>January</td>\n",
       "      <td>4.0</td>\n",
       "      <td>3.6</td>\n",
       "      <td>2.4</td>\n",
       "      <td>3.9</td>\n",
       "      <td>3.0</td>\n",
       "      <td>3.5</td>\n",
       "      <td>3.6</td>\n",
       "      <td>2.25</td>\n",
       "      <td>3.5</td>\n",
       "      <td>3.5</td>\n",
       "    </tr>\n",
       "    <tr>\n",
       "      <th>1</th>\n",
       "      <td>February</td>\n",
       "      <td>4.0</td>\n",
       "      <td>3.9</td>\n",
       "      <td>2.7</td>\n",
       "      <td>3.8</td>\n",
       "      <td>4.3</td>\n",
       "      <td>3.2</td>\n",
       "      <td>2.7</td>\n",
       "      <td>1.80</td>\n",
       "      <td>3.7</td>\n",
       "      <td>3.5</td>\n",
       "    </tr>\n",
       "    <tr>\n",
       "      <th>2</th>\n",
       "      <td>March</td>\n",
       "      <td>3.5</td>\n",
       "      <td>2.9</td>\n",
       "      <td>3.1</td>\n",
       "      <td>3.8</td>\n",
       "      <td>2.4</td>\n",
       "      <td>4.1</td>\n",
       "      <td>3.7</td>\n",
       "      <td>2.60</td>\n",
       "      <td>4.2</td>\n",
       "      <td>2.5</td>\n",
       "    </tr>\n",
       "    <tr>\n",
       "      <th>3</th>\n",
       "      <td>April</td>\n",
       "      <td>3.8</td>\n",
       "      <td>3.1</td>\n",
       "      <td>2.4</td>\n",
       "      <td>4.4</td>\n",
       "      <td>2.4</td>\n",
       "      <td>3.8</td>\n",
       "      <td>3.7</td>\n",
       "      <td>2.50</td>\n",
       "      <td>3.6</td>\n",
       "      <td>2.9</td>\n",
       "    </tr>\n",
       "    <tr>\n",
       "      <th>4</th>\n",
       "      <td>May</td>\n",
       "      <td>3.5</td>\n",
       "      <td>3.2</td>\n",
       "      <td>1.9</td>\n",
       "      <td>3.4</td>\n",
       "      <td>2.7</td>\n",
       "      <td>2.7</td>\n",
       "      <td>3.9</td>\n",
       "      <td>2.20</td>\n",
       "      <td>4.5</td>\n",
       "      <td>3.9</td>\n",
       "    </tr>\n",
       "    <tr>\n",
       "      <th>5</th>\n",
       "      <td>June</td>\n",
       "      <td>4.0</td>\n",
       "      <td>3.2</td>\n",
       "      <td>2.7</td>\n",
       "      <td>3.4</td>\n",
       "      <td>3.4</td>\n",
       "      <td>3.0</td>\n",
       "      <td>4.5</td>\n",
       "      <td>2.10</td>\n",
       "      <td>3.8</td>\n",
       "      <td>4.1</td>\n",
       "    </tr>\n",
       "    <tr>\n",
       "      <th>6</th>\n",
       "      <td>July</td>\n",
       "      <td>3.9</td>\n",
       "      <td>3.6</td>\n",
       "      <td>2.0</td>\n",
       "      <td>4.4</td>\n",
       "      <td>3.9</td>\n",
       "      <td>3.7</td>\n",
       "      <td>4.3</td>\n",
       "      <td>1.80</td>\n",
       "      <td>4.0</td>\n",
       "      <td>3.8</td>\n",
       "    </tr>\n",
       "    <tr>\n",
       "      <th>7</th>\n",
       "      <td>August</td>\n",
       "      <td>4.2</td>\n",
       "      <td>3.3</td>\n",
       "      <td>2.8</td>\n",
       "      <td>4.2</td>\n",
       "      <td>2.0</td>\n",
       "      <td>3.7</td>\n",
       "      <td>3.6</td>\n",
       "      <td>1.50</td>\n",
       "      <td>4.4</td>\n",
       "      <td>4.3</td>\n",
       "    </tr>\n",
       "    <tr>\n",
       "      <th>8</th>\n",
       "      <td>September</td>\n",
       "      <td>4.1</td>\n",
       "      <td>2.8</td>\n",
       "      <td>2.5</td>\n",
       "      <td>4.2</td>\n",
       "      <td>2.9</td>\n",
       "      <td>3.7</td>\n",
       "      <td>2.8</td>\n",
       "      <td>2.50</td>\n",
       "      <td>4.0</td>\n",
       "      <td>3.4</td>\n",
       "    </tr>\n",
       "    <tr>\n",
       "      <th>9</th>\n",
       "      <td>October</td>\n",
       "      <td>3.0</td>\n",
       "      <td>3.0</td>\n",
       "      <td>3.1</td>\n",
       "      <td>4.6</td>\n",
       "      <td>3.1</td>\n",
       "      <td>3.3</td>\n",
       "      <td>3.2</td>\n",
       "      <td>2.30</td>\n",
       "      <td>2.5</td>\n",
       "      <td>3.2</td>\n",
       "    </tr>\n",
       "    <tr>\n",
       "      <th>10</th>\n",
       "      <td>November</td>\n",
       "      <td>4.8</td>\n",
       "      <td>3.3</td>\n",
       "      <td>2.7</td>\n",
       "      <td>4.1</td>\n",
       "      <td>2.9</td>\n",
       "      <td>3.6</td>\n",
       "      <td>4.2</td>\n",
       "      <td>3.00</td>\n",
       "      <td>3.1</td>\n",
       "      <td>4.1</td>\n",
       "    </tr>\n",
       "    <tr>\n",
       "      <th>11</th>\n",
       "      <td>December</td>\n",
       "      <td>4.8</td>\n",
       "      <td>4.0</td>\n",
       "      <td>1.9</td>\n",
       "      <td>3.7</td>\n",
       "      <td>4.2</td>\n",
       "      <td>3.6</td>\n",
       "      <td>2.6</td>\n",
       "      <td>2.90</td>\n",
       "      <td>3.6</td>\n",
       "      <td>3.7</td>\n",
       "    </tr>\n",
       "  </tbody>\n",
       "</table>\n",
       "</div>"
      ],
      "text/plain": [
       "   Unnamed: 0  Print   TV  SEO  AdWords  Facebook  LinkedIn  Instagram  \\\n",
       "0     January    4.0  3.6  2.4      3.9       3.0       3.5        3.6   \n",
       "1    February    4.0  3.9  2.7      3.8       4.3       3.2        2.7   \n",
       "2       March    3.5  2.9  3.1      3.8       2.4       4.1        3.7   \n",
       "3       April    3.8  3.1  2.4      4.4       2.4       3.8        3.7   \n",
       "4         May    3.5  3.2  1.9      3.4       2.7       2.7        3.9   \n",
       "5        June    4.0  3.2  2.7      3.4       3.4       3.0        4.5   \n",
       "6        July    3.9  3.6  2.0      4.4       3.9       3.7        4.3   \n",
       "7      August    4.2  3.3  2.8      4.2       2.0       3.7        3.6   \n",
       "8   September    4.1  2.8  2.5      4.2       2.9       3.7        2.8   \n",
       "9     October    3.0  3.0  3.1      4.6       3.1       3.3        3.2   \n",
       "10   November    4.8  3.3  2.7      4.1       2.9       3.6        4.2   \n",
       "11   December    4.8  4.0  1.9      3.7       4.2       3.6        2.6   \n",
       "\n",
       "    Snapchat  Twitter  Email  \n",
       "0       2.25      3.5    3.5  \n",
       "1       1.80      3.7    3.5  \n",
       "2       2.60      4.2    2.5  \n",
       "3       2.50      3.6    2.9  \n",
       "4       2.20      4.5    3.9  \n",
       "5       2.10      3.8    4.1  \n",
       "6       1.80      4.0    3.8  \n",
       "7       1.50      4.4    4.3  \n",
       "8       2.50      4.0    3.4  \n",
       "9       2.30      2.5    3.2  \n",
       "10      3.00      3.1    4.1  \n",
       "11      2.90      3.6    3.7  "
      ]
     },
     "execution_count": 3,
     "metadata": {},
     "output_type": "execute_result"
    }
   ],
   "source": [
    "roi_monthly = pd.read_csv(\"roi_mat.csv\") # read the ROI file\n",
    "\n",
    "roi_monthly  # view the data for reference"
   ]
  },
  {
   "cell_type": "markdown",
   "id": "6cc7e291",
   "metadata": {},
   "source": [
    "## Linear Problem Formulation"
   ]
  },
  {
   "cell_type": "markdown",
   "id": "471f2814",
   "metadata": {},
   "source": [
    "We have 10 variables corresponding to the budget spent (in millions) in each of the 10 marketing mediums:\n",
    "\n",
    "$x_1$ =  amount spent in Print, $x_2$ =  amount spent in TV, $x_3$ =  amount spent in SEO,  $x_4$ =  amount spent in AdWords,\n",
    "$x_5$ =  amount spent in Facebook, $x_6$ =  amount spent in LinkedIn, $x_7$ =  amount spent in Instagram,\n",
    "$x_8$ =  amount spent in Snapchat, $x_9$ =  amount spent in Twitter, $x_{10}$ =  amount spent in Email\n",
    "\n",
    "**Constraints**\n",
    "\n",
    "$x_1 + x_2 + x_3 + x_4 + x_5 + x_6 + x_7 + x_8 + x_9 +x_{10} <=10$\n",
    "\n",
    "$x_1 + x_2 - x_5 - x_{10} <= 0$ \n",
    "\n",
    "$x_5 + x_6 + x_7 + x_8 + x_9 - 2x_3 - 2x_4 >=0$\n",
    "\n",
    "$x_1 <= 3$\n",
    "\n",
    "$x_2 <= 3$\n",
    "\n",
    "$x_3 <= 3$\n",
    "\n",
    "$x_4 <= 3$\n",
    "\n",
    "$x_5 <= 3$\n",
    "\n",
    "$x_6 <= 3$\n",
    "\n",
    "$x_7 <= 3$\n",
    "\n",
    "$x_8 <= 3$\n",
    "\n",
    "$x_9 <= 3$\n",
    "\n",
    "$x_{10} <= 3$\n",
    "\n",
    "Maximize return on investment based on different ROI estimates"
   ]
  },
  {
   "cell_type": "code",
   "execution_count": 4,
   "id": "4604ef44",
   "metadata": {},
   "outputs": [],
   "source": [
    "A = np.zeros((13,10)) # initialize constraint matrix\n",
    "\n",
    "A[0,:] = [1,1,1,1,1,1,1,1,1,1] \n",
    "A[1,:] = [1,1,0,0,-1,0,0,0,0,-1] \n",
    "A[2,:] = [0,0,2,2,-1,-1,-1,-1,-1,0] \n",
    "A[3:13,:] = np.diag(np.ones(10))\n",
    "\n",
    "b = np.array([10,0,0,3,3,3,3,3,3,3,3,3,3]) \n",
    "sense = np.array(['<']*13)"
   ]
  },
  {
   "cell_type": "markdown",
   "id": "18eff912",
   "metadata": {},
   "source": [
    "## Optimal budget allocation"
   ]
  },
  {
   "cell_type": "markdown",
   "id": "a6cd0bf4",
   "metadata": {},
   "source": [
    "### Part 3) -  Using ROIs of first consulting firm"
   ]
  },
  {
   "cell_type": "code",
   "execution_count": 5,
   "id": "3a69aa41",
   "metadata": {},
   "outputs": [
    {
     "name": "stdout",
     "output_type": "stream",
     "text": [
      "Academic license - for non-commercial use only - expires 2022-09-15\n",
      "Using license file C:\\Users\\palak\\gurobi.lic\n"
     ]
    }
   ],
   "source": [
    "marketing_return1 = estimated_roi.iloc[0][estimated_roi.columns[1:]].to_numpy() # objective vector\n",
    "marketing_model1= gp.Model() # initialize an empty model\n",
    "\n",
    "marketing_x1 = marketing_model1.addMVar(10) # tell the model how many variables there are\n",
    "\n",
    "marketing_con1 = marketing_model1.addMConstrs(A, marketing_x1, sense, b) # add the constraints to the model\n",
    "marketing_model1.setMObjective(None,marketing_return1,0,sense=gp.GRB.MAXIMIZE) # add the objective to the model\n",
    "\n",
    "marketing_model1.Params.OutputFlag = 0 \n",
    "\n",
    "marketing_model1.optimize() # solve the LP"
   ]
  },
  {
   "cell_type": "code",
   "execution_count": 6,
   "id": "42fdc7e3",
   "metadata": {},
   "outputs": [
    {
     "name": "stdout",
     "output_type": "stream",
     "text": [
      "Optimal objective value: 0.45600000000000007\n"
     ]
    }
   ],
   "source": [
    "optimal_obj_1 = marketing_model1.objVal #extract optimal objective value\n",
    "print(\"Optimal objective value:\",optimal_obj_1)"
   ]
  },
  {
   "cell_type": "code",
   "execution_count": 7,
   "id": "9a6a6dbf",
   "metadata": {},
   "outputs": [
    {
     "name": "stdout",
     "output_type": "stream",
     "text": [
      "The optimal budget allocation according to the first consulting firm: [0. 3. 0. 1. 0. 0. 3. 0. 0. 3.]\n"
     ]
    }
   ],
   "source": [
    "allocation_1 = marketing_x1.x #extract optimal allocation\n",
    "print(\"The optimal budget allocation according to the first consulting firm:\", allocation_1)"
   ]
  },
  {
   "cell_type": "markdown",
   "id": "647544c0",
   "metadata": {},
   "source": [
    "### Part 4) -  Using ROIs of second consulting firm"
   ]
  },
  {
   "cell_type": "code",
   "execution_count": 8,
   "id": "ae838f77",
   "metadata": {},
   "outputs": [],
   "source": [
    "marketing_return2 = estimated_roi.iloc[1][estimated_roi.columns[1:]].to_numpy() # objective vector\n",
    "\n",
    "marketing_model2= gp.Model() # initialize an empty model\n",
    "\n",
    "marketing_x2 = marketing_model2.addMVar(10) # tell the model how many variables there are\n",
    "\n",
    "marketing_con2 = marketing_model2.addMConstrs(A, marketing_x2, sense, b) # add the constraints to the model\n",
    "marketing_model2.setMObjective(None,marketing_return2,0,sense=gp.GRB.MAXIMIZE) # add the objective to the model\n",
    "\n",
    "marketing_model2.Params.OutputFlag = 0 \n",
    "\n",
    "marketing_model2.optimize() # solve the LP"
   ]
  },
  {
   "cell_type": "code",
   "execution_count": 9,
   "id": "9e701b42",
   "metadata": {},
   "outputs": [
    {
     "name": "stdout",
     "output_type": "stream",
     "text": [
      "Optimal objective value: 0.45600000000000007\n"
     ]
    }
   ],
   "source": [
    "optimal_obj_2 = marketing_model2.objVal # extract optimal objective value\n",
    "print(\"Optimal objective value:\",optimal_obj_2)"
   ]
  },
  {
   "cell_type": "code",
   "execution_count": 10,
   "id": "ed3939ef",
   "metadata": {},
   "outputs": [
    {
     "name": "stdout",
     "output_type": "stream",
     "text": [
      "The optimal budget allocation according to the second consulting firm: [3. 0. 0. 1. 3. 3. 0. 0. 0. 0.]\n"
     ]
    }
   ],
   "source": [
    "allocation_2 = marketing_x2.x # extract optimal allocation\n",
    "print(\"The optimal budget allocation according to the second consulting firm:\", allocation_2)"
   ]
  },
  {
   "cell_type": "markdown",
   "id": "6fc0e74f",
   "metadata": {},
   "source": [
    "## Comparing the two allocations"
   ]
  },
  {
   "cell_type": "markdown",
   "id": "9f5fb85c",
   "metadata": {},
   "source": [
    "### Part 5)"
   ]
  },
  {
   "cell_type": "code",
   "execution_count": 11,
   "id": "5a115e68",
   "metadata": {},
   "outputs": [
    {
     "data": {
      "image/png": "[encoded data removed]",
      "text/plain": [
       "<Figure size 864x576 with 1 Axes>"
      ]
     },
     "metadata": {
      "needs_background": "light"
     },
     "output_type": "display_data"
    }
   ],
   "source": [
    "barWidth = 0.25\n",
    "plt.subplots(figsize =(12, 8))\n",
    "\n",
    "br1 = np.arange(len(estimated_roi.columns[1:]))\n",
    "br2 = [x + barWidth for x in br1]\n",
    "\n",
    "plt.bar(br1,allocation_1, width = barWidth,label = \"First Allocation\")\n",
    "plt.bar(br2,allocation_2, width = barWidth, label = \"Second Allocation\")\n",
    "plt.xlabel(\"Marketing Platforms\")\n",
    "plt.ylabel(\"Allocation (in millions)\")\n",
    "plt.xticks([r + barWidth for r in range(len(allocation_1))],estimated_roi.columns[1:])\n",
    "\n",
    "plt.legend(loc=\"upper right\")\n",
    "plt.show()"
   ]
  },
  {
   "cell_type": "markdown",
   "id": "87459987",
   "metadata": {},
   "source": [
    "Although the optimal objective value remains same in utilization of ROI estimates from both firms (0.456M dollars), the allocations to marketing mediums are different. Comparing both, we observe:\n",
    "- The first ROI data suggests that we invest 3M dollars each in TV, Instagram and Email. However, the ROI data from the second firm suggests that we do not invest in any of these mediums and instead invest 3M dollars each in Print, Facebook and LinkedIn.\n",
    "- Both suggest that we invest 1M dollars in AdWords\n",
    "- Both suggest that we do not invest in SEO, Snapchat and Twitter\n"
   ]
  },
  {
   "cell_type": "markdown",
   "id": "2636a930",
   "metadata": {},
   "source": [
    "**Using second allocation when first ROI data is correct**"
   ]
  },
  {
   "cell_type": "code",
   "execution_count": 12,
   "id": "f52ffb19",
   "metadata": {},
   "outputs": [
    {
     "name": "stdout",
     "output_type": "stream",
     "text": [
      "The optimal objective decreases by 0.20400000000000007\n"
     ]
    }
   ],
   "source": [
    "print(\"The optimal objective decreases by\",optimal_obj_1 - marketing_return1@allocation_2)"
   ]
  },
  {
   "cell_type": "markdown",
   "id": "f51fbbf6",
   "metadata": {},
   "source": [
    "**Using first allocation when second ROI data is correct**"
   ]
  },
  {
   "cell_type": "code",
   "execution_count": 13,
   "id": "4e2da68c",
   "metadata": {},
   "outputs": [
    {
     "name": "stdout",
     "output_type": "stream",
     "text": [
      "The optimal objective decreases by 0.19200000000000006\n"
     ]
    }
   ],
   "source": [
    "print(\"The optimal objective decreases by\",optimal_obj_2 - marketing_return2@allocation_1)"
   ]
  },
  {
   "cell_type": "markdown",
   "id": "fbf99739",
   "metadata": {},
   "source": [
    "**Is the third constraint useful**"
   ]
  },
  {
   "cell_type": "code",
   "execution_count": 14,
   "id": "5917c9e5",
   "metadata": {},
   "outputs": [
    {
     "data": {
      "text/plain": [
       "[0.039,\n",
       " 0.010000000000000002,\n",
       " 0.0,\n",
       " 0.0,\n",
       " 0.0,\n",
       " 0.0,\n",
       " 0.0,\n",
       " 0.0,\n",
       " 0.0,\n",
       " 0.006999999999999999,\n",
       " 0.0,\n",
       " 0.0,\n",
       " 0.015]"
      ]
     },
     "execution_count": 14,
     "metadata": {},
     "output_type": "execute_result"
    }
   ],
   "source": [
    "[con.Pi for con in marketing_con1]"
   ]
  },
  {
   "cell_type": "code",
   "execution_count": 15,
   "id": "ac29d10b",
   "metadata": {},
   "outputs": [
    {
     "data": {
      "text/plain": [
       "[0.039,\n",
       " 0.010000000000000002,\n",
       " 0.0,\n",
       " 0.0,\n",
       " 0.0,\n",
       " 0.0,\n",
       " 0.0,\n",
       " 0.015,\n",
       " 0.006999999999999999,\n",
       " 0.0,\n",
       " 0.0,\n",
       " 0.0,\n",
       " 0.0]"
      ]
     },
     "execution_count": 15,
     "metadata": {},
     "output_type": "execute_result"
    }
   ],
   "source": [
    "[con.Pi for con in marketing_con2]"
   ]
  },
  {
   "cell_type": "markdown",
   "id": "e1dcf129",
   "metadata": {},
   "source": [
    "First ROI estimates: If we relax the constraints on the amount invested in Instagram or email (<= 3M dollars constraint currently), our objective value will improve.\n",
    "\n",
    "Second ROI estimates: If we relax the constraints on the amount invested in Facebook or LinkedIn (<= 3M dollars constraint currently), our objective value will improve.\n",
    "\n",
    "In other words, the shadow price for these constraints is non-zero which implies these are binding constraints. Hence, the third constraint is contributing to bindings constraints which are driving the estimation of optimal value and if the constraint changes, the optimal value changes as well.\n",
    "\n",
    "Also, its worth noting that although the relaxation of the third constraint can increase the objective value, its better to invest across different platforms in order to reduce risks."
   ]
  },
  {
   "cell_type": "markdown",
   "id": "a09dc608",
   "metadata": {},
   "source": [
    "## Range of ROI data and difference from first ROIs"
   ]
  },
  {
   "cell_type": "markdown",
   "id": "cf83db16",
   "metadata": {},
   "source": [
    "### Part 6)"
   ]
  },
  {
   "cell_type": "markdown",
   "id": "c7eb80ff",
   "metadata": {},
   "source": [
    "**Range of ROI estimates**"
   ]
  },
  {
   "cell_type": "code",
   "execution_count": 16,
   "id": "4bead66a",
   "metadata": {},
   "outputs": [
    {
     "data": {
      "text/html": [
       "<div>\n",
       "<style scoped>\n",
       "    .dataframe tbody tr th:only-of-type {\n",
       "        vertical-align: middle;\n",
       "    }\n",
       "\n",
       "    .dataframe tbody tr th {\n",
       "        vertical-align: top;\n",
       "    }\n",
       "\n",
       "    .dataframe thead th {\n",
       "        text-align: right;\n",
       "    }\n",
       "</style>\n",
       "<table border=\"1\" class=\"dataframe\">\n",
       "  <thead>\n",
       "    <tr style=\"text-align: right;\">\n",
       "      <th></th>\n",
       "      <th>Min</th>\n",
       "      <th>Max</th>\n",
       "    </tr>\n",
       "  </thead>\n",
       "  <tbody>\n",
       "    <tr>\n",
       "      <th>Print</th>\n",
       "      <td>-inf</td>\n",
       "      <td>0.049</td>\n",
       "    </tr>\n",
       "    <tr>\n",
       "      <th>TV</th>\n",
       "      <td>0.039</td>\n",
       "      <td>0.062</td>\n",
       "    </tr>\n",
       "    <tr>\n",
       "      <th>SEO</th>\n",
       "      <td>-inf</td>\n",
       "      <td>0.039</td>\n",
       "    </tr>\n",
       "    <tr>\n",
       "      <th>AdWords</th>\n",
       "      <td>0.033</td>\n",
       "      <td>0.046</td>\n",
       "    </tr>\n",
       "    <tr>\n",
       "      <th>Facebook</th>\n",
       "      <td>-inf</td>\n",
       "      <td>0.029</td>\n",
       "    </tr>\n",
       "    <tr>\n",
       "      <th>LinkedIn</th>\n",
       "      <td>-inf</td>\n",
       "      <td>0.039</td>\n",
       "    </tr>\n",
       "    <tr>\n",
       "      <th>Instagram</th>\n",
       "      <td>0.039</td>\n",
       "      <td>inf</td>\n",
       "    </tr>\n",
       "    <tr>\n",
       "      <th>Snapchat</th>\n",
       "      <td>-inf</td>\n",
       "      <td>0.039</td>\n",
       "    </tr>\n",
       "    <tr>\n",
       "      <th>Twitter</th>\n",
       "      <td>-inf</td>\n",
       "      <td>0.039</td>\n",
       "    </tr>\n",
       "    <tr>\n",
       "      <th>Email</th>\n",
       "      <td>0.029</td>\n",
       "      <td>inf</td>\n",
       "    </tr>\n",
       "  </tbody>\n",
       "</table>\n",
       "</div>"
      ],
      "text/plain": [
       "             Min    Max\n",
       "Print       -inf  0.049\n",
       "TV         0.039  0.062\n",
       "SEO         -inf  0.039\n",
       "AdWords    0.033  0.046\n",
       "Facebook    -inf  0.029\n",
       "LinkedIn    -inf  0.039\n",
       "Instagram  0.039    inf\n",
       "Snapchat    -inf  0.039\n",
       "Twitter     -inf  0.039\n",
       "Email      0.029    inf"
      ]
     },
     "execution_count": 16,
     "metadata": {},
     "output_type": "execute_result"
    }
   ],
   "source": [
    "range_roi = pd.DataFrame(index = estimated_roi.columns[1:],columns = [\"Min\",\"Max\"])\n",
    "\n",
    "range_roi[\"Min\"] = marketing_x1.SAObjLow\n",
    "range_roi[\"Max\"] = marketing_x1.SAObjUp\n",
    "range_roi "
   ]
  },
  {
   "cell_type": "markdown",
   "id": "b84fbf9d",
   "metadata": {},
   "source": [
    "**By how much can we increase or decrease ROI estimate (using first ROI estimates as starting point)**"
   ]
  },
  {
   "cell_type": "code",
   "execution_count": 17,
   "id": "faa674b8",
   "metadata": {},
   "outputs": [
    {
     "data": {
      "text/html": [
       "<div>\n",
       "<style scoped>\n",
       "    .dataframe tbody tr th:only-of-type {\n",
       "        vertical-align: middle;\n",
       "    }\n",
       "\n",
       "    .dataframe tbody tr th {\n",
       "        vertical-align: top;\n",
       "    }\n",
       "\n",
       "    .dataframe thead th {\n",
       "        text-align: right;\n",
       "    }\n",
       "</style>\n",
       "<table border=\"1\" class=\"dataframe\">\n",
       "  <thead>\n",
       "    <tr style=\"text-align: right;\">\n",
       "      <th></th>\n",
       "      <th>Can decrease by</th>\n",
       "      <th>Can increase by</th>\n",
       "    </tr>\n",
       "  </thead>\n",
       "  <tbody>\n",
       "    <tr>\n",
       "      <th>Print</th>\n",
       "      <td>inf</td>\n",
       "      <td>0.018</td>\n",
       "    </tr>\n",
       "    <tr>\n",
       "      <th>TV</th>\n",
       "      <td>0.01</td>\n",
       "      <td>0.013</td>\n",
       "    </tr>\n",
       "    <tr>\n",
       "      <th>SEO</th>\n",
       "      <td>inf</td>\n",
       "      <td>0.015</td>\n",
       "    </tr>\n",
       "    <tr>\n",
       "      <th>AdWords</th>\n",
       "      <td>0.006</td>\n",
       "      <td>0.007</td>\n",
       "    </tr>\n",
       "    <tr>\n",
       "      <th>Facebook</th>\n",
       "      <td>inf</td>\n",
       "      <td>0.013</td>\n",
       "    </tr>\n",
       "    <tr>\n",
       "      <th>LinkedIn</th>\n",
       "      <td>inf</td>\n",
       "      <td>0.015</td>\n",
       "    </tr>\n",
       "    <tr>\n",
       "      <th>Instagram</th>\n",
       "      <td>0.007</td>\n",
       "      <td>inf</td>\n",
       "    </tr>\n",
       "    <tr>\n",
       "      <th>Snapchat</th>\n",
       "      <td>inf</td>\n",
       "      <td>0.013</td>\n",
       "    </tr>\n",
       "    <tr>\n",
       "      <th>Twitter</th>\n",
       "      <td>inf</td>\n",
       "      <td>0.006</td>\n",
       "    </tr>\n",
       "    <tr>\n",
       "      <th>Email</th>\n",
       "      <td>0.015</td>\n",
       "      <td>inf</td>\n",
       "    </tr>\n",
       "  </tbody>\n",
       "</table>\n",
       "</div>"
      ],
      "text/plain": [
       "          Can decrease by Can increase by\n",
       "Print                 inf           0.018\n",
       "TV                   0.01           0.013\n",
       "SEO                   inf           0.015\n",
       "AdWords             0.006           0.007\n",
       "Facebook              inf           0.013\n",
       "LinkedIn              inf           0.015\n",
       "Instagram           0.007             inf\n",
       "Snapchat              inf           0.013\n",
       "Twitter               inf           0.006\n",
       "Email               0.015             inf"
      ]
     },
     "execution_count": 17,
     "metadata": {},
     "output_type": "execute_result"
    }
   ],
   "source": [
    "df = pd.DataFrame(estimated_roi.iloc[0][estimated_roi.columns[1:]] - range_roi[\"Min\"], columns=[\"Can decrease by\"])\n",
    "df[\"Can increase by\"] = range_roi[\"Max\"] - estimated_roi.iloc[0][estimated_roi.columns[1:]]\n",
    "df"
   ]
  },
  {
   "cell_type": "markdown",
   "id": "eb88d79c",
   "metadata": {},
   "source": [
    "## Optimal allocations for each month\n",
    "### Part 7)"
   ]
  },
  {
   "cell_type": "code",
   "execution_count": 18,
   "id": "42a94750",
   "metadata": {},
   "outputs": [
    {
     "data": {
      "text/html": [
       "<div>\n",
       "<style scoped>\n",
       "    .dataframe tbody tr th:only-of-type {\n",
       "        vertical-align: middle;\n",
       "    }\n",
       "\n",
       "    .dataframe tbody tr th {\n",
       "        vertical-align: top;\n",
       "    }\n",
       "\n",
       "    .dataframe thead th {\n",
       "        text-align: right;\n",
       "    }\n",
       "</style>\n",
       "<table border=\"1\" class=\"dataframe\">\n",
       "  <thead>\n",
       "    <tr style=\"text-align: right;\">\n",
       "      <th></th>\n",
       "      <th>Print</th>\n",
       "      <th>TV</th>\n",
       "      <th>SEO</th>\n",
       "      <th>AdWords</th>\n",
       "      <th>Facebook</th>\n",
       "      <th>LinkedIn</th>\n",
       "      <th>Instagram</th>\n",
       "      <th>Snapchat</th>\n",
       "      <th>Twitter</th>\n",
       "      <th>Email</th>\n",
       "      <th>Actual returns</th>\n",
       "    </tr>\n",
       "  </thead>\n",
       "  <tbody>\n",
       "    <tr>\n",
       "      <th>January</th>\n",
       "      <td>0.0</td>\n",
       "      <td>3.0</td>\n",
       "      <td>0.0</td>\n",
       "      <td>1.000000</td>\n",
       "      <td>0.0</td>\n",
       "      <td>0.0</td>\n",
       "      <td>3.0</td>\n",
       "      <td>0.0</td>\n",
       "      <td>0.000000</td>\n",
       "      <td>3.0</td>\n",
       "      <td>0.360000</td>\n",
       "    </tr>\n",
       "    <tr>\n",
       "      <th>February</th>\n",
       "      <td>0.0</td>\n",
       "      <td>3.0</td>\n",
       "      <td>0.0</td>\n",
       "      <td>1.180000</td>\n",
       "      <td>0.0</td>\n",
       "      <td>0.0</td>\n",
       "      <td>3.0</td>\n",
       "      <td>0.0</td>\n",
       "      <td>0.000000</td>\n",
       "      <td>3.0</td>\n",
       "      <td>0.347840</td>\n",
       "    </tr>\n",
       "    <tr>\n",
       "      <th>March</th>\n",
       "      <td>0.0</td>\n",
       "      <td>3.0</td>\n",
       "      <td>0.0</td>\n",
       "      <td>1.353920</td>\n",
       "      <td>0.0</td>\n",
       "      <td>0.0</td>\n",
       "      <td>3.0</td>\n",
       "      <td>0.0</td>\n",
       "      <td>0.000000</td>\n",
       "      <td>3.0</td>\n",
       "      <td>0.324449</td>\n",
       "    </tr>\n",
       "    <tr>\n",
       "      <th>April</th>\n",
       "      <td>0.0</td>\n",
       "      <td>3.0</td>\n",
       "      <td>0.0</td>\n",
       "      <td>1.505381</td>\n",
       "      <td>0.0</td>\n",
       "      <td>0.0</td>\n",
       "      <td>3.0</td>\n",
       "      <td>0.0</td>\n",
       "      <td>0.010763</td>\n",
       "      <td>3.0</td>\n",
       "      <td>0.357624</td>\n",
       "    </tr>\n",
       "    <tr>\n",
       "      <th>May</th>\n",
       "      <td>0.0</td>\n",
       "      <td>3.0</td>\n",
       "      <td>0.0</td>\n",
       "      <td>1.564986</td>\n",
       "      <td>0.0</td>\n",
       "      <td>0.0</td>\n",
       "      <td>3.0</td>\n",
       "      <td>0.0</td>\n",
       "      <td>0.129971</td>\n",
       "      <td>3.0</td>\n",
       "      <td>0.389058</td>\n",
       "    </tr>\n",
       "    <tr>\n",
       "      <th>June</th>\n",
       "      <td>0.0</td>\n",
       "      <td>3.0</td>\n",
       "      <td>0.0</td>\n",
       "      <td>1.629829</td>\n",
       "      <td>0.0</td>\n",
       "      <td>0.0</td>\n",
       "      <td>3.0</td>\n",
       "      <td>0.0</td>\n",
       "      <td>0.259657</td>\n",
       "      <td>3.0</td>\n",
       "      <td>0.419281</td>\n",
       "    </tr>\n",
       "    <tr>\n",
       "      <th>July</th>\n",
       "      <td>0.0</td>\n",
       "      <td>3.0</td>\n",
       "      <td>0.0</td>\n",
       "      <td>1.699709</td>\n",
       "      <td>0.0</td>\n",
       "      <td>0.0</td>\n",
       "      <td>3.0</td>\n",
       "      <td>0.0</td>\n",
       "      <td>0.399418</td>\n",
       "      <td>3.0</td>\n",
       "      <td>0.441764</td>\n",
       "    </tr>\n",
       "    <tr>\n",
       "      <th>August</th>\n",
       "      <td>0.0</td>\n",
       "      <td>3.0</td>\n",
       "      <td>0.0</td>\n",
       "      <td>1.773336</td>\n",
       "      <td>0.0</td>\n",
       "      <td>0.0</td>\n",
       "      <td>3.0</td>\n",
       "      <td>0.0</td>\n",
       "      <td>0.546672</td>\n",
       "      <td>3.0</td>\n",
       "      <td>0.434534</td>\n",
       "    </tr>\n",
       "    <tr>\n",
       "      <th>September</th>\n",
       "      <td>0.0</td>\n",
       "      <td>3.0</td>\n",
       "      <td>0.0</td>\n",
       "      <td>1.845758</td>\n",
       "      <td>0.0</td>\n",
       "      <td>0.0</td>\n",
       "      <td>3.0</td>\n",
       "      <td>0.0</td>\n",
       "      <td>0.691517</td>\n",
       "      <td>3.0</td>\n",
       "      <td>0.375183</td>\n",
       "    </tr>\n",
       "    <tr>\n",
       "      <th>October</th>\n",
       "      <td>0.0</td>\n",
       "      <td>3.0</td>\n",
       "      <td>0.0</td>\n",
       "      <td>1.908289</td>\n",
       "      <td>0.0</td>\n",
       "      <td>0.0</td>\n",
       "      <td>3.0</td>\n",
       "      <td>0.0</td>\n",
       "      <td>0.816578</td>\n",
       "      <td>3.0</td>\n",
       "      <td>0.390196</td>\n",
       "    </tr>\n",
       "    <tr>\n",
       "      <th>November</th>\n",
       "      <td>0.0</td>\n",
       "      <td>3.0</td>\n",
       "      <td>0.0</td>\n",
       "      <td>1.973321</td>\n",
       "      <td>0.0</td>\n",
       "      <td>0.0</td>\n",
       "      <td>3.0</td>\n",
       "      <td>0.0</td>\n",
       "      <td>0.946643</td>\n",
       "      <td>3.0</td>\n",
       "      <td>0.458252</td>\n",
       "    </tr>\n",
       "    <tr>\n",
       "      <th>December</th>\n",
       "      <td>0.0</td>\n",
       "      <td>3.0</td>\n",
       "      <td>0.0</td>\n",
       "      <td>2.049697</td>\n",
       "      <td>0.0</td>\n",
       "      <td>0.0</td>\n",
       "      <td>3.0</td>\n",
       "      <td>0.0</td>\n",
       "      <td>1.099393</td>\n",
       "      <td>3.0</td>\n",
       "      <td>0.424417</td>\n",
       "    </tr>\n",
       "  </tbody>\n",
       "</table>\n",
       "</div>"
      ],
      "text/plain": [
       "           Print   TV  SEO   AdWords  Facebook  LinkedIn  Instagram  Snapchat  \\\n",
       "January      0.0  3.0  0.0  1.000000       0.0       0.0        3.0       0.0   \n",
       "February     0.0  3.0  0.0  1.180000       0.0       0.0        3.0       0.0   \n",
       "March        0.0  3.0  0.0  1.353920       0.0       0.0        3.0       0.0   \n",
       "April        0.0  3.0  0.0  1.505381       0.0       0.0        3.0       0.0   \n",
       "May          0.0  3.0  0.0  1.564986       0.0       0.0        3.0       0.0   \n",
       "June         0.0  3.0  0.0  1.629829       0.0       0.0        3.0       0.0   \n",
       "July         0.0  3.0  0.0  1.699709       0.0       0.0        3.0       0.0   \n",
       "August       0.0  3.0  0.0  1.773336       0.0       0.0        3.0       0.0   \n",
       "September    0.0  3.0  0.0  1.845758       0.0       0.0        3.0       0.0   \n",
       "October      0.0  3.0  0.0  1.908289       0.0       0.0        3.0       0.0   \n",
       "November     0.0  3.0  0.0  1.973321       0.0       0.0        3.0       0.0   \n",
       "December     0.0  3.0  0.0  2.049697       0.0       0.0        3.0       0.0   \n",
       "\n",
       "            Twitter  Email  Actual returns  \n",
       "January    0.000000    3.0        0.360000  \n",
       "February   0.000000    3.0        0.347840  \n",
       "March      0.000000    3.0        0.324449  \n",
       "April      0.010763    3.0        0.357624  \n",
       "May        0.129971    3.0        0.389058  \n",
       "June       0.259657    3.0        0.419281  \n",
       "July       0.399418    3.0        0.441764  \n",
       "August     0.546672    3.0        0.434534  \n",
       "September  0.691517    3.0        0.375183  \n",
       "October    0.816578    3.0        0.390196  \n",
       "November   0.946643    3.0        0.458252  \n",
       "December   1.099393    3.0        0.424417  "
      ]
     },
     "execution_count": 18,
     "metadata": {},
     "output_type": "execute_result"
    }
   ],
   "source": [
    "Budget = 10 #initialize budget\n",
    "monthly_returns = []\n",
    "\n",
    "monthly_alloc = pd.DataFrame(columns = roi_monthly.columns[1:]) #empty dataframe that holds optimal allocation for each month \n",
    "\n",
    "for i in range(0,12):\n",
    "    \n",
    "    b3 = np.array([Budget,0,0,3,3,3,3,3,3,3,3,3,3]) \n",
    "    marketing_return3 = estimated_roi.iloc[0][estimated_roi.columns[1:]].to_numpy() # objective vector\n",
    "    marketing_model3= gp.Model() # initialize an empty model\n",
    "\n",
    "    marketing_x3 = marketing_model3.addMVar(10) # tell the model how many variables there are\n",
    "\n",
    "    marketing_con3 = marketing_model3.addMConstrs(A, marketing_x3, sense, b3) # add the constraints to the model\n",
    "    marketing_model3.setMObjective(None,marketing_return3,0,sense=gp.GRB.MAXIMIZE) # add the objective to the model\n",
    "\n",
    "    marketing_model3.Params.OutputFlag = 0 \n",
    "\n",
    "    marketing_model3.optimize() # solve the LP\n",
    "    \n",
    "    returns = marketing_x3.x@(roi_monthly.iloc[i][roi_monthly.columns[1:]].to_numpy())/100\n",
    "    monthly_alloc.loc[roi_monthly.iloc[i][0]] =  marketing_x3.x\n",
    "    monthly_returns.append(returns)\n",
    "    Budget = Budget+ returns*0.5\n",
    "    \n",
    "monthly_alloc[\"Actual returns\"] = monthly_returns\n",
    "monthly_alloc"
   ]
  },
  {
   "cell_type": "code",
   "execution_count": 19,
   "id": "6ef40ad3",
   "metadata": {},
   "outputs": [
    {
     "data": {
      "image/png": "[encoded data removed]",
      "text/plain": [
       "<Figure size 720x360 with 1 Axes>"
      ]
     },
     "metadata": {
      "needs_background": "light"
     },
     "output_type": "display_data"
    }
   ],
   "source": [
    "monthly_alloc[:][monthly_alloc.columns[:-1]].plot(kind='bar', stacked=True,title='Allocation by months (in $ million)',figsize=(10, 5))\n",
    "plt.xlabel('Month of the year')\n",
    "plt.ylabel('Allocation to each platform (in $ million)')\n",
    "plt.show()"
   ]
  },
  {
   "cell_type": "code",
   "execution_count": 20,
   "id": "5157681a",
   "metadata": {},
   "outputs": [
    {
     "data": {
      "image/png": "[encoded data removed]",
      "text/plain": [
       "<Figure size 720x360 with 1 Axes>"
      ]
     },
     "metadata": {
      "needs_background": "light"
     },
     "output_type": "display_data"
    }
   ],
   "source": [
    "plt.figure(figsize=(10, 5))\n",
    "plt.plot(monthly_alloc[\"Actual returns\"], marker=\"o\", color=\"maroon\")\n",
    "plt.xticks(rotation = 90)\n",
    "plt.title(\"Actual monthly return (in $ million)\")\n",
    "plt.xlabel('Month of the year')\n",
    "plt.ylabel('Return (in $ million)')\n",
    "plt.show()"
   ]
  },
  {
   "cell_type": "markdown",
   "id": "8336f9c4",
   "metadata": {},
   "source": [
    "## Stable budget\n",
    "### Part 8)"
   ]
  },
  {
   "cell_type": "markdown",
   "id": "2263711c",
   "metadata": {},
   "source": [
    "To determine if the budget is stable or not, we compared the investments for each platform for 2 successive months starting from January (month 0) to November (month 11) (i.e., at the end, we compare November with December) and assigned a value of 1 to the stable matrix's [month][platform] if the absolute value of the difference in investments is less than or equal to 1 million. \n",
    "\n",
    "We then loop over the stable matrix to check if there are any zeros (i.e. the solution is unstable) or if it is stable"
   ]
  },
  {
   "cell_type": "code",
   "execution_count": 21,
   "id": "1f11d996",
   "metadata": {},
   "outputs": [
    {
     "name": "stdout",
     "output_type": "stream",
     "text": [
      "Solution is stable\n"
     ]
    }
   ],
   "source": [
    "#creating a stable indicator matrix with all 1s; we will update the stable matrix with 0 when a platform is unstable at any month\n",
    "#for stability check of each platform, we will compare the allocations for month 'i' and 'i+1' starting from month 0 (i.e January) to month 11 (i.e November)\n",
    "\n",
    "stable = np.zeros((11,10))\n",
    "\n",
    "for j in range(10):    #This is the range to loop over all the 10 platforms of investment; j has values 0,1,2,3,4,5,6,7,8,9\n",
    "    for i in range(11):  #This is the range to loop over all the 11 months of the year (Jan-Nov) and compare the investments for 2 successive months; i has values 0,1,2,3,4,5,6,7,8,9,10\n",
    "        if abs(monthly_alloc.iloc[i][j] - monthly_alloc.iloc[i+1][j]) <= 1:\n",
    "            stable[i][j] = 1 \n",
    "            \n",
    "for i in range(11):\n",
    "    if np.product(stable[i]) == 0:\n",
    "        print(\"Solution is unstable\")\n",
    "        break\n",
    "        \n",
    "    elif i==10:\n",
    "        print(\"Solution is stable\")"
   ]
  }
 ],
 "metadata": {
  "kernelspec": {
   "display_name": "Python 3",
   "language": "python",
   "name": "python3"
  },
  "language_info": {
   "codemirror_mode": {
    "name": "ipython",
    "version": 3
   },
   "file_extension": ".py",
   "mimetype": "text/x-python",
   "name": "python",
   "nbconvert_exporter": "python",
   "pygments_lexer": "ipython3",
   "version": "3.8.8"
  }
 },
 "nbformat": 4,
 "nbformat_minor": 5
}
